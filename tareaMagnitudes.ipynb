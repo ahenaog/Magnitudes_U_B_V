{
 "cells": [
  {
   "cell_type": "markdown",
   "metadata": {},
   "source": [
    "# Tarea 1\n",
    "\n",
    "\n",
    "Calcular la magnitud U, B y V de un cuerpo negro a distintas temperaturas, considerando el detector ideal. \n"
   ]
  },
  {
   "cell_type": "markdown",
   "metadata": {},
   "source": [
    "Para este próposito se toman las siguientes estrellas de referencia:\n",
    "\n",
    "##### Arcturus \n",
    "\n",
    "        T = 4286 K                  \n",
    "\n",
    "        R = 2540% Rsol              \n",
    "\n",
    "##### b Centauri A\n",
    "\n",
    "        T = 18445 K               \n",
    "\n",
    "        R = 293% Rsol               \n",
    "\n",
    "##### 9 Sagittarii A\n",
    "\n",
    "        T = 43850 K              \n",
    "\n",
    "        R = 1310% Rsol            \n",
    "\n",
    "##### Sol\n",
    "\n",
    "        Teff = 5778 K\n",
    "\n",
    "        R = 6.96E8 m \n",
    "\n",
    "        Mbol = 4.74   \n"
   ]
  },
  {
   "cell_type": "markdown",
   "metadata": {},
   "source": [
    "### Metodología"
   ]
  },
  {
   "cell_type": "markdown",
   "metadata": {},
   "source": [
    "$$B(T)= \\int_{a}^b{} \\frac{2hc^{2}}{\\lambda ^{5}}\\frac{1}{e^{\\frac{hc}{k\\lambda T}}-1}d\\lambda$$\n",
    "\n",
    "A partir de la ecuación anterior se calcula la intensidad en función de la temperatura. Con esta ecuación, se busca integrar entre los siguientes intervalos que constituyen los filtros U : ultravioleta, V : visual, B : blue\n",
    "\n",
    "$$U \\in [0.3, 0.4] \\mu m$$\n",
    "$$B \\in [0.35, 0.5] \\mu m$$\n",
    "$$V \\in [0.45, 0.7] \\mu m$$\n",
    "\n",
    "Luego, se calcula el flujo a partir de la siguiente ecuación y posteriormente se calcula la luminosidad. Para calcular la luminosidad del sol se utiliza la segunda y tercera ecuación.\n",
    "\n",
    "$$F = \\pi B(T)$$\n",
    "\n",
    "$$F = \\sigma T_{eff}^{4}$$\n",
    "\n",
    "$$L = 4 \\pi R^{2} \\sigma T_{eff}^{4} = 4 \\pi R^{2} F$$\n",
    "\n",
    "Una vez calculada la luminosidad se calcula la magnitud bolométrica para posteriormente calcular la magnitud en el filtro respectivo con la segunda ecuación.\n",
    "\n",
    "$$M_{bol} - M_{bolsol} = -2.5log(\\frac{L}{L_{sol}}$$\n",
    "\n",
    "$$m = 5log(d) - 5 + M + A$$\n"
   ]
  },
  {
   "cell_type": "code",
   "execution_count": 218,
   "metadata": {},
   "outputs": [],
   "source": [
    "from scipy.integrate import quad\n",
    "import math as m\n",
    "import numpy as np"
   ]
  },
  {
   "cell_type": "code",
   "execution_count": 219,
   "metadata": {},
   "outputs": [],
   "source": [
    "planckCt = 6.63E-34 #Js\n",
    "speedLight = 3E8 #m/s\n",
    "boltzmannCt = 1.38E-23 #J/K\n",
    "\n",
    "TeffSun = 5778 #K\n",
    "Rsun = 6.96E8 #m\n",
    "MbolSun = 4.74\n",
    "\n",
    "sigma = 5.67E-8 #W/m^2 K^4\n",
    "\n",
    "Arcturus = 4286, 25.4*Rsun\n",
    "\n",
    "Centauri_A = 18445, 2.93*Rsun\n",
    "\n",
    "Sagittarii_A = 43850, 13.10*Rsun\n",
    "\n",
    "\n",
    "visual = 4.5E-7, 7E-7\n",
    "blue = 3.5E-7, 5E-7\n",
    "ultraviolet = 3E-7, 4E-7"
   ]
  },
  {
   "cell_type": "code",
   "execution_count": 220,
   "metadata": {},
   "outputs": [],
   "source": [
    "#compute Planck law \n",
    "\n",
    "def B(T, lambdai, lambdaf):\n",
    "    constant = 2* planckCt * speedLight**2\n",
    "    function = lambda x: (1 / x**5 )* (1/(np.exp(planckCt*speedLight / (boltzmannCt*x*T))-1))\n",
    "    integral = quad(function,lambdai, lambdaf)\n",
    "    return integral[0]*constant"
   ]
  },
  {
   "cell_type": "code",
   "execution_count": 221,
   "metadata": {},
   "outputs": [],
   "source": [
    "Lo = 4 * np.pi * Rsun**2 * sigma *  m.pow(TeffSun, 4)"
   ]
  },
  {
   "cell_type": "code",
   "execution_count": 222,
   "metadata": {},
   "outputs": [],
   "source": [
    "def magnitude(TStar, RStar, filtr, distance):\n",
    "    B_= B(TStar, filtr[0], filtr[1])\n",
    "    flux = np.pi * B_ \n",
    "    L = 4 * np.pi * RStar**2 * flux\n",
    "    \n",
    "    Mb = MbolSun - 2.5*np.log10(L/Lo)\n",
    "    \n",
    "    return 5*np.log10(distance) -5 + Mb\n",
    "    "
   ]
  },
  {
   "cell_type": "code",
   "execution_count": 223,
   "metadata": {},
   "outputs": [
    {
     "name": "stdout",
     "output_type": "stream",
     "text": [
      "\n",
      "\n",
      "La magnitud visual de la estrella Arcturus es de: -0.09438375980471125\n",
      "La magnitud visual de la estrella Centauri_A es de: -0.7532029196725931\n",
      "La magnitud visual de la estrella Sagittarii_A es de: -5.482414548223532\n",
      "\n",
      "\n",
      "La magnitud blue de la estrella Arcturus es de: 1.0251736503387638\n",
      "La magnitud blue de la estrella Centauri_A es de: -1.1313138649082504\n",
      "La magnitud blue de la estrella Sagittarii_A es de: -6.06134000334522\n",
      "\n",
      "\n",
      "La magnitud ultraviolet de la estrella Arcturus es de: 2.2154438500905695\n",
      "La magnitud ultraviolet de la estrella Centauri_A es de: -1.22556195626567\n",
      "La magnitud ultraviolet de la estrella Sagittarii_A es de: -6.326855427378924\n"
     ]
    }
   ],
   "source": [
    "\n",
    "n = {'visual': visual, \n",
    "     'blue': blue,\n",
    "     'ultraviolet': ultraviolet}\n",
    "\n",
    "s = {'Arcturus': Arcturus, \n",
    "     'Centauri_A': Centauri_A,\n",
    "     'Sagittarii_A': Sagittarii_A}\n",
    "\n",
    "\n",
    "for filtr in n:\n",
    "    print(\"\\n\")\n",
    "    for star in s:\n",
    "        m = magnitude(s[star][0], s[star][1], n[filtr], 7)\n",
    "        print(\"La magnitud {} de la estrella {} es de: {}\".format(filtr, star, m ))"
   ]
  },
  {
   "cell_type": "markdown",
   "metadata": {},
   "source": [
    "#### Conclusiones\n",
    "\n",
    "A pesar de la complejidad al comparar las magnitudes con valores de referencia, algunas magnitudes se acercan a los valores reportados por la literatura (1), (2), (3). Las desviaciónes en los valores obtenidos pueden deberse a varios factores, como: no considerar la extinsión, considerar las magnitudes bolometricas (ya que no se encontraron valores especificos para cada filtro), y las aproximaciones a los rangos de cada filtro. "
   ]
  },
  {
   "cell_type": "markdown",
   "metadata": {},
   "source": [
    "##### Referencias\n",
    "\n",
    "    (1) https://www.stellarcatalog.com/estrellas/arcturus\n",
    "    (2) https://www.stellarcatalog.com/estrellas/hip-71865\n",
    "    (3) https://www.stellarcatalog.com/estrellas/9-sagittarii\n",
    "    (4) http://users.df.uba.ar/sgil/tutoriales1/fisica_tutoriales/cosmologia/cosmo2/T_sunfact.html"
   ]
  }
 ],
 "metadata": {
  "kernelspec": {
   "display_name": "base",
   "language": "python",
   "name": "python3"
  },
  "language_info": {
   "codemirror_mode": {
    "name": "ipython",
    "version": 3
   },
   "file_extension": ".py",
   "mimetype": "text/x-python",
   "name": "python",
   "nbconvert_exporter": "python",
   "pygments_lexer": "ipython3",
   "version": "3.9.7"
  }
 },
 "nbformat": 4,
 "nbformat_minor": 2
}
